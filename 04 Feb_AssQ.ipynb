{
 "cells": [
  {
   "cell_type": "markdown",
   "id": "27bc71e2-4187-463e-a05c-65a2dbde448c",
   "metadata": {},
   "source": [
    "#### 04 Feb_AssQ: Lambda, Map, Reduce & Filter Functions "
   ]
  },
  {
   "cell_type": "markdown",
   "id": "e2015530-3a1d-45da-ae64-2b4ebb0b1307",
   "metadata": {},
   "source": []
  },
  {
   "cell_type": "markdown",
   "id": "ccb1f1a2-6b01-4e2a-a2b2-6be63464b152",
   "metadata": {},
   "source": [
    "##### Q1. Create a python program to sort the given list of tuples based on integer value using a lambda function.\n",
    "[('Sachin Tendulkar', 34357), ('Ricky Ponting', 27483), ('Jack Kallis', 25534), ('Virat Kohli', 24936)]"
   ]
  },
  {
   "cell_type": "markdown",
   "id": "1ec7f721-da95-4eda-bb58-80471c1c6d8a",
   "metadata": {},
   "source": [
    "Ans:01\n",
    "\n",
    "Here's a Python program that sorts the given list of tuples based on the integer value using a lambda function:"
   ]
  },
  {
   "cell_type": "code",
   "execution_count": 3,
   "id": "fe65da4c-852b-41ac-bc82-1036a1fdaff4",
   "metadata": {},
   "outputs": [
    {
     "name": "stdout",
     "output_type": "stream",
     "text": [
      "('Virat Kohli', 24936)\n",
      "('Jack Kallis', 25534)\n",
      "('Ricky Ponting', 27483)\n",
      "('Sachin Tendulkar', 34357)\n"
     ]
    }
   ],
   "source": [
    "# Sample list of tuples\n",
    "lst = [('Sachin Tendulkar', 34357), ('Ricky Ponting', 27483), ('Jack Kallis', 25534), ('Virat Kohli', 24936)]\n",
    "\n",
    "# Sorting the list based on the integer value using a lambda function.\n",
    "sorted_lst = sorted(lst, key= lambda x : x[1]) \n",
    "# In sorted first comes the iterable then comes the function in the place of key. By default key is none in sorted().\n",
    "# Return a new list containing all items from the iterable in ascending order.\n",
    "\n",
    "# Displaying the sorted list\n",
    "for item in sorted_lst:\n",
    "    print(item)"
   ]
  },
  {
   "cell_type": "markdown",
   "id": "d0eab974-5daf-4c69-8f48-c92675c6ee1c",
   "metadata": {},
   "source": [
    "In this program, the sorted() function is used to sort the list lst based on the integer value of each tuple. \n",
    "\n",
    "The key parameter is set to a lambda function lambda x: x[1], which extracts the second element (integer value) from each tuple for comparison during sorting."
   ]
  },
  {
   "cell_type": "markdown",
   "id": "c45436b9-144f-45f9-a741-628627a5399c",
   "metadata": {},
   "source": []
  },
  {
   "cell_type": "markdown",
   "id": "5cdb6c4a-1dfc-4324-9e18-4879fddf7718",
   "metadata": {},
   "source": [
    "##### Q2. Write a Python Program to find the squares of all the numbers in the given list of integers using lambda and map functions.\n",
    "[1, 2, 3, 4, 5, 6, 7, 8, 9, 10]"
   ]
  },
  {
   "cell_type": "markdown",
   "id": "a4d67ac9-9b13-41c7-95c9-0c18c1937138",
   "metadata": {},
   "source": [
    "Ans:02\n",
    "\n",
    " Here's a Python program that uses lambda and map functions to find the squares of all the numbers in the given list of integers:"
   ]
  },
  {
   "cell_type": "code",
   "execution_count": 4,
   "id": "8e66961b-8ce9-4a9b-97ba-5a262d23c79b",
   "metadata": {},
   "outputs": [
    {
     "name": "stdout",
     "output_type": "stream",
     "text": [
      "[1, 4, 9, 16, 25, 36, 49, 64, 81, 100]\n"
     ]
    }
   ],
   "source": [
    "# Sample list of integers:\n",
    "lst = [1, 2, 3, 4, 5, 6, 7, 8, 9, 10]\n",
    "\n",
    "# Using lambda & map functions to find the squares\n",
    "squared_lst = list(map(lambda x : x**2, lst))\n",
    "\n",
    "# Displaying the squared list\n",
    "print(squared_lst)"
   ]
  },
  {
   "cell_type": "markdown",
   "id": "0459499b-c28d-46d4-86be-9e89be2e07b1",
   "metadata": {},
   "source": [
    "In this program, the map() function is used along with a lambda function lambda x: x**2 to calculate the square of each number in the list lst.\n",
    "\n",
    "The resulting squared values are collected into a new list using the list() function.\n",
    "\n",
    "The program generates a new list containing the squares of all the numbers in the original list."
   ]
  },
  {
   "cell_type": "markdown",
   "id": "a6252749-ce3e-4721-b921-0ce8357524c4",
   "metadata": {},
   "source": []
  },
  {
   "cell_type": "markdown",
   "id": "081759fe-4fcf-4511-9bec-3f1a20199a10",
   "metadata": {},
   "source": [
    "##### Q3. Write a python program to convert the given list of integers into a tuple of strings. Use map and lambda functions\n",
    "Given String: [1, 2, 3, 4, 5, 6, 7, 8, 9, 10] \n",
    "\n",
    "Expected output: ('1', '2', '3', '4', '5', '6', '7', '8', '9', '10')"
   ]
  },
  {
   "cell_type": "markdown",
   "id": "a37beebc-e860-4103-a3e2-44462599b7ae",
   "metadata": {},
   "source": [
    "Ans:03\n",
    "\n",
    "Here's a Python program that uses map and lambda functions to convert the given list of integers into a tuple of strings:"
   ]
  },
  {
   "cell_type": "code",
   "execution_count": 6,
   "id": "b34982f5-e492-46c8-bbd9-d481f9e32c22",
   "metadata": {},
   "outputs": [
    {
     "name": "stdout",
     "output_type": "stream",
     "text": [
      "('1', '2', '3', '4', '5', '6', '7', '8', '9', '10')\n"
     ]
    }
   ],
   "source": [
    "# Given list of integers\n",
    "lst = [1, 2, 3, 4, 5, 6, 7, 8, 9, 10]\n",
    "\n",
    "# Using map & lambda functions to convert integers to strings\n",
    "str_tuple = tuple(map(lambda x: str(x), lst))\n",
    "\n",
    "# Displaying the tuple of strings\n",
    "print(str_tuple)"
   ]
  },
  {
   "cell_type": "markdown",
   "id": "eb35b271-3f52-4723-bb42-46d2191a939a",
   "metadata": {},
   "source": [
    "In this program, the map() function is used along with a lambda function lambda x: str(x) to convert each integer in the list lst to a string.\n",
    "\n",
    "The resulting strings are collected into a new tuple using the tuple() function.\n",
    "\n",
    "The program converts each integer in the original list into a string and generates a new tuple containing these strings."
   ]
  },
  {
   "cell_type": "markdown",
   "id": "fe035eb9-55bd-4af9-bdf1-d45d9b029d72",
   "metadata": {},
   "source": []
  },
  {
   "cell_type": "markdown",
   "id": "81b0abb2-4c68-4db5-9fe0-72b1c07578e3",
   "metadata": {},
   "source": [
    "##### Q4. Write a python program using reduce function to compute the product of a list containing numbers from 1 to 25."
   ]
  },
  {
   "cell_type": "markdown",
   "id": "1535db53-6b6b-4201-ad12-5c8551821a11",
   "metadata": {},
   "source": [
    "Ans: 04\n",
    "\n",
    "To compute the product of a list containing numbers from 1 to 25 using the reduce() function from the functools module, you can follow this Python program:"
   ]
  },
  {
   "cell_type": "code",
   "execution_count": 9,
   "id": "3f361807-ca72-40f3-b57d-36806d14a769",
   "metadata": {},
   "outputs": [
    {
     "name": "stdout",
     "output_type": "stream",
     "text": [
      "Product: 15511210043330985984000000\n"
     ]
    }
   ],
   "source": [
    "from functools import reduce\n",
    "\n",
    "# Generate the list of numbers from 1 to 25\n",
    "numbers = list(range(1,26))\n",
    "\n",
    "# Compute the product using reduce func\n",
    "product = reduce(lambda x,y : x*y, numbers)\n",
    "\n",
    "# Display the product\n",
    "print('Product:', product)\n"
   ]
  },
  {
   "cell_type": "markdown",
   "id": "8fc3d7f6-314b-4846-9fd5-d284b3c64c31",
   "metadata": {},
   "source": [
    "In this program, the reduce() function is used along with a lambda function lambda x, y: x * y to multiply each element in the numbers list together, starting from the first element and iteratively applying the multiplication operation to the subsequent elements."
   ]
  },
  {
   "cell_type": "markdown",
   "id": "2beecf7e-373c-4367-8c55-fae9e2fb4ecc",
   "metadata": {},
   "source": [
    "The program computes the product of the numbers from 1 to 25, resulting in a large integer value."
   ]
  },
  {
   "cell_type": "markdown",
   "id": "2e863e59-cbf5-4845-92dd-7e9b827e4646",
   "metadata": {},
   "source": []
  },
  {
   "cell_type": "markdown",
   "id": "e5bd5f2a-12bb-4a20-ad08-ffca6ad90607",
   "metadata": {},
   "source": [
    "##### Q5. Write a python program to filter the numbers in a given list that are divisible by 2 and 3 using the filter function.\n",
    "[2, 3, 6, 9, 27, 60, 90, 120, 55, 46]"
   ]
  },
  {
   "cell_type": "markdown",
   "id": "aa480b1f-a4c7-4824-a3f8-241c18dba536",
   "metadata": {},
   "source": [
    "Ans: 05\n",
    "\n",
    "Here's a Python program that uses the filter() function to filter the numbers in a given list that are divisible by both 2 and 3:"
   ]
  },
  {
   "cell_type": "code",
   "execution_count": 10,
   "id": "517e0aa3-6f19-415f-a5a4-69722fd896a1",
   "metadata": {},
   "outputs": [
    {
     "name": "stdout",
     "output_type": "stream",
     "text": [
      "[6, 60, 90, 120]\n"
     ]
    }
   ],
   "source": [
    "# Given list of numbers\n",
    "numbers = [2, 3, 6, 9, 27, 60, 90, 120, 55, 46]\n",
    "\n",
    "# Using filter func to filter nos. divisible by 2 & 3\n",
    "filtered_numbers = list(filter(lambda x: x%2==0 and x%3==0, numbers))\n",
    "\n",
    "#Displaying the filtered numbers\n",
    "print(filtered_numbers)"
   ]
  },
  {
   "cell_type": "markdown",
   "id": "4705d26f-b163-425e-a29f-0a45e878dacf",
   "metadata": {},
   "source": [
    "In this program, the filter() function is used with a lambda function lambda x: x % 2 == 0 and x % 3 == 0 to filter the numbers in the list numbers. \n",
    "\n",
    "The lambda function checks if a number is divisible by both 2 and 3 by using the modulus operator %.\n",
    "\n",
    "The program filters the numbers in the list that are divisible by both 2 and 3, resulting in a new list containing these filtered numbers.\n",
    "\n",
    "\n",
    "\n",
    "\n"
   ]
  },
  {
   "cell_type": "markdown",
   "id": "fbc6aa60-f926-4714-a445-a2774b7c1ea5",
   "metadata": {},
   "source": []
  },
  {
   "cell_type": "markdown",
   "id": "725d7801-2e52-493f-a365-1b05f9c9bad3",
   "metadata": {},
   "source": [
    "##### Q6. Write a python program to find palindromes in the given list of strings using lambda and filter function.\n",
    "['python', 'php', 'aba', 'radar', 'level']"
   ]
  },
  {
   "cell_type": "markdown",
   "id": "bf663efa-c516-4bc2-8c5f-0b4e8428560c",
   "metadata": {},
   "source": [
    "Ans: 06\n",
    "\n",
    "Here's a Python program that uses lambda and filter functions to find palindromes in the given list of strings:"
   ]
  },
  {
   "cell_type": "code",
   "execution_count": 11,
   "id": "6c130b93-6f36-47c3-813a-dd7605d870e0",
   "metadata": {},
   "outputs": [
    {
     "name": "stdout",
     "output_type": "stream",
     "text": [
      "['php', 'aba', 'radar', 'level']\n"
     ]
    }
   ],
   "source": [
    "# Given list of strings\n",
    "strings = ['python', 'php', 'aba', 'radar', 'level']\n",
    "\n",
    "# Using lambda & filter funcs to find palindromes\n",
    "palindromes = list(filter(lambda x: x==x[::-1], strings))\n",
    "\n",
    "# Displaying the palindromes\n",
    "print(palindromes)"
   ]
  },
  {
   "cell_type": "markdown",
   "id": "63ce0e4f-b389-41e4-8161-48ed9719c891",
   "metadata": {},
   "source": [
    "In this program, the filter() function is used with a lambda function lambda x: x == x[::-1] to filter the strings in the list strings. \n",
    "\n",
    "The lambda function checks if a string is equal to its reverse by comparing it with x[::-1], which creates a reversed version of the string.\n",
    "\n",
    "If the string is the same when reversed, it is considered a palindrome.\n",
    "\n",
    "The program filters the strings in the list and only keeps the ones that are palindromes, resulting in a new list containing these palindromic strings."
   ]
  },
  {
   "cell_type": "markdown",
   "id": "391f5647-f1ad-42d2-b113-a532a84e0171",
   "metadata": {},
   "source": []
  }
 ],
 "metadata": {
  "kernelspec": {
   "display_name": "Python 3 (ipykernel)",
   "language": "python",
   "name": "python3"
  },
  "language_info": {
   "codemirror_mode": {
    "name": "ipython",
    "version": 3
   },
   "file_extension": ".py",
   "mimetype": "text/x-python",
   "name": "python",
   "nbconvert_exporter": "python",
   "pygments_lexer": "ipython3",
   "version": "3.10.8"
  }
 },
 "nbformat": 4,
 "nbformat_minor": 5
}
